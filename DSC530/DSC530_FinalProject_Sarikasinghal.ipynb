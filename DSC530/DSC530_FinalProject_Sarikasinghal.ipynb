{
 "cells": [
  {
   "cell_type": "markdown",
   "id": "c8c4fccf",
   "metadata": {},
   "source": [
    "# FINAL PROJECT\n",
    "\n",
    "Submitted By: Sarika Singhal\n",
    "\n",
    "This database contains 76 attributes, but all published experiments refer to using a subset of 14 of them. In particular, the Cleveland database is the only one that has been used by ML researchers to\n",
    "this date. The \"goal\" field refers to the presence of heart disease in the patient. It is integer valued from 0 (no presence) to 4.\n",
    "\n",
    "The data has been taken from www.kaggle.com\n",
    "\n",
    "Link - https://www.kaggle.com/ronitf/heart-disease-uci\n",
    "\n",
    "Authors of the Dataset - Ronit\n",
    "\n",
    "Final Project - Requirements\n",
    "\n",
    "Add the following to your GitHub repository.\n",
    "\n",
    "Your dataset - DONE\n",
    "\n",
    "A PowerPoint presentation outlining your statistical question/hypothesis - DONE\n",
    "\n",
    "a. A minimum of 5 variables in your dataset used during your analysis (for help with selecting, the author made his selection on page 6 of your book). Consider what you think could have an impact on your question – remember this is never perfect, so don’t be worried if you miss one (Chapter 1). - DONE\n",
    "\n",
    "b. Describe what the 5 variables mean in the dataset (Chapter 1). - DONE\n",
    "\n",
    "c. Include a histogram of each of the 5 variables – in your summary and analysis, identify any outliers and explain the reasoning for them being outliers and how you believe they should be handled (Chapter 2). - DONE\n",
    "\n",
    "d. Include the other descriptive characteristics about the variables: Mean, Mode, Spread, and Tails (Chapter 2). - DONE\n",
    "    \n",
    "e. Using pg. 29 of your text as an example, compare two scenarios in your data using a PMF. Reminder, this isn’t comparing two variables against each other – it is the same variable, but a different scenario. Almost like a filter. The example in the book is first babies compared to all other babies, it is still the same variable, but breaking the data out based on criteria we are exploring (Chapter 3). - DONE\n",
    "\n",
    "f. Create 1 CDF with one of your variables, using page 41-44 as your guide, what does this tell you about your variable and how does it address the question you are trying to answer (Chapter 4). - DONE\n",
    "\n",
    "g. Plot 1 analytical distribution and provide your analysis on how it applies to the dataset you have chosen (Chapter 5). DONE\n",
    "\n",
    "h. Create two scatter plots comparing two variables and provide your analysis on correlation and causation. Remember, covariance, Pearson’s correlation, and Non-Linear Relationships should also be considered during your analysis (Chapter 7). - DONE\n",
    "\n",
    "i. Conduct a test on your hypothesis using one of the methods covered in Chapter 9. - DONE\n",
    "\n",
    "j. For this project, conduct a regression analysis on either one dependent and one explanatory variable, or multiple explanatory variables (Chapter 10 & 11). - DONE\n",
    "\n",
    "Your code or screenshots of your code - DONE\n",
    "\n",
    "A 250-500-word paper summarizing the following: Statistical/Hypothetical Question - DONE a. Outcome of your EDA\n",
    "\n",
    "b. What do you feel was missed during the analysis?\n",
    "\n",
    "c. Were there any variables you felt could have helped in the analysis?\n",
    "\n",
    "d. Were there any assumptions made you felt were incorrect?\n",
    "\n",
    "e. What challenges did you face, what did you not fully understand?\n",
    "\n",
    "Submit a link to your repository to the assignment link during the final week of class. - DONE"
   ]
  },
  {
   "cell_type": "markdown",
   "id": "f56b9cfe",
   "metadata": {},
   "source": [
    "# Start Solution\n",
    "Reading the Clinical File and Converting to Dataframe"
   ]
  },
  {
   "cell_type": "code",
   "execution_count": 2,
   "id": "80576460",
   "metadata": {},
   "outputs": [
    {
     "name": "stdout",
     "output_type": "stream",
     "text": [
      "START READING\n",
      "END READING\n",
      "     age  sex  cp  trestbps  chol  fbs  restecg  thalach  exang  oldpeak  \\\n",
      "0     63    1   3       145   233    1        0      150      0      2.3   \n",
      "1     37    1   2       130   250    0        1      187      0      3.5   \n",
      "2     41    0   1       130   204    0        0      172      0      1.4   \n",
      "3     56    1   1       120   236    0        1      178      0      0.8   \n",
      "4     57    0   0       120   354    0        1      163      1      0.6   \n",
      "..   ...  ...  ..       ...   ...  ...      ...      ...    ...      ...   \n",
      "298   57    0   0       140   241    0        1      123      1      0.2   \n",
      "299   45    1   3       110   264    0        1      132      0      1.2   \n",
      "300   68    1   0       144   193    1        1      141      0      3.4   \n",
      "301   57    1   0       130   131    0        1      115      1      1.2   \n",
      "302   57    0   1       130   236    0        0      174      0      0.0   \n",
      "\n",
      "     slope  ca  thal  target  \n",
      "0        0   0     1       1  \n",
      "1        0   0     2       1  \n",
      "2        2   0     2       1  \n",
      "3        2   0     2       1  \n",
      "4        2   0     2       1  \n",
      "..     ...  ..   ...     ...  \n",
      "298      1   0     3       0  \n",
      "299      1   0     3       0  \n",
      "300      1   2     3       0  \n",
      "301      1   1     3       0  \n",
      "302      1   1     2       0  \n",
      "\n",
      "[303 rows x 14 columns]\n"
     ]
    }
   ],
   "source": [
    "import pandas;\n",
    "def readFile(f=\"heart.csv\", seperator=\",\"):\n",
    "    print(\"START READING\")\n",
    "    df = pandas.read_csv(f,sep=seperator)\n",
    "    print(\"END READING\")\n",
    "    return df\n",
    "    \n",
    "clinical_df = readFile()\n",
    "   \n",
    "print(clinical_df)"
   ]
  },
  {
   "cell_type": "code",
   "execution_count": 5,
   "id": "3865f3d1",
   "metadata": {},
   "outputs": [
    {
     "data": {
      "text/plain": [
       "(303, 14)"
      ]
     },
     "execution_count": 5,
     "metadata": {},
     "output_type": "execute_result"
    }
   ],
   "source": [
    "clinical_df.shape"
   ]
  },
  {
   "cell_type": "code",
   "execution_count": 6,
   "id": "80838ed0",
   "metadata": {},
   "outputs": [
    {
     "data": {
      "text/html": [
       "<div>\n",
       "<style scoped>\n",
       "    .dataframe tbody tr th:only-of-type {\n",
       "        vertical-align: middle;\n",
       "    }\n",
       "\n",
       "    .dataframe tbody tr th {\n",
       "        vertical-align: top;\n",
       "    }\n",
       "\n",
       "    .dataframe thead th {\n",
       "        text-align: right;\n",
       "    }\n",
       "</style>\n",
       "<table border=\"1\" class=\"dataframe\">\n",
       "  <thead>\n",
       "    <tr style=\"text-align: right;\">\n",
       "      <th></th>\n",
       "      <th>count</th>\n",
       "      <th>mean</th>\n",
       "      <th>std</th>\n",
       "      <th>min</th>\n",
       "      <th>25%</th>\n",
       "      <th>50%</th>\n",
       "      <th>75%</th>\n",
       "      <th>max</th>\n",
       "    </tr>\n",
       "  </thead>\n",
       "  <tbody>\n",
       "    <tr>\n",
       "      <th>age</th>\n",
       "      <td>303.0</td>\n",
       "      <td>54.366337</td>\n",
       "      <td>9.082101</td>\n",
       "      <td>29.0</td>\n",
       "      <td>47.5</td>\n",
       "      <td>55.0</td>\n",
       "      <td>61.0</td>\n",
       "      <td>77.0</td>\n",
       "    </tr>\n",
       "    <tr>\n",
       "      <th>sex</th>\n",
       "      <td>303.0</td>\n",
       "      <td>0.683168</td>\n",
       "      <td>0.466011</td>\n",
       "      <td>0.0</td>\n",
       "      <td>0.0</td>\n",
       "      <td>1.0</td>\n",
       "      <td>1.0</td>\n",
       "      <td>1.0</td>\n",
       "    </tr>\n",
       "    <tr>\n",
       "      <th>cp</th>\n",
       "      <td>303.0</td>\n",
       "      <td>0.966997</td>\n",
       "      <td>1.032052</td>\n",
       "      <td>0.0</td>\n",
       "      <td>0.0</td>\n",
       "      <td>1.0</td>\n",
       "      <td>2.0</td>\n",
       "      <td>3.0</td>\n",
       "    </tr>\n",
       "    <tr>\n",
       "      <th>trestbps</th>\n",
       "      <td>303.0</td>\n",
       "      <td>131.623762</td>\n",
       "      <td>17.538143</td>\n",
       "      <td>94.0</td>\n",
       "      <td>120.0</td>\n",
       "      <td>130.0</td>\n",
       "      <td>140.0</td>\n",
       "      <td>200.0</td>\n",
       "    </tr>\n",
       "    <tr>\n",
       "      <th>chol</th>\n",
       "      <td>303.0</td>\n",
       "      <td>246.264026</td>\n",
       "      <td>51.830751</td>\n",
       "      <td>126.0</td>\n",
       "      <td>211.0</td>\n",
       "      <td>240.0</td>\n",
       "      <td>274.5</td>\n",
       "      <td>564.0</td>\n",
       "    </tr>\n",
       "    <tr>\n",
       "      <th>fbs</th>\n",
       "      <td>303.0</td>\n",
       "      <td>0.148515</td>\n",
       "      <td>0.356198</td>\n",
       "      <td>0.0</td>\n",
       "      <td>0.0</td>\n",
       "      <td>0.0</td>\n",
       "      <td>0.0</td>\n",
       "      <td>1.0</td>\n",
       "    </tr>\n",
       "    <tr>\n",
       "      <th>restecg</th>\n",
       "      <td>303.0</td>\n",
       "      <td>0.528053</td>\n",
       "      <td>0.525860</td>\n",
       "      <td>0.0</td>\n",
       "      <td>0.0</td>\n",
       "      <td>1.0</td>\n",
       "      <td>1.0</td>\n",
       "      <td>2.0</td>\n",
       "    </tr>\n",
       "    <tr>\n",
       "      <th>thalach</th>\n",
       "      <td>303.0</td>\n",
       "      <td>149.646865</td>\n",
       "      <td>22.905161</td>\n",
       "      <td>71.0</td>\n",
       "      <td>133.5</td>\n",
       "      <td>153.0</td>\n",
       "      <td>166.0</td>\n",
       "      <td>202.0</td>\n",
       "    </tr>\n",
       "    <tr>\n",
       "      <th>exang</th>\n",
       "      <td>303.0</td>\n",
       "      <td>0.326733</td>\n",
       "      <td>0.469794</td>\n",
       "      <td>0.0</td>\n",
       "      <td>0.0</td>\n",
       "      <td>0.0</td>\n",
       "      <td>1.0</td>\n",
       "      <td>1.0</td>\n",
       "    </tr>\n",
       "    <tr>\n",
       "      <th>oldpeak</th>\n",
       "      <td>303.0</td>\n",
       "      <td>1.039604</td>\n",
       "      <td>1.161075</td>\n",
       "      <td>0.0</td>\n",
       "      <td>0.0</td>\n",
       "      <td>0.8</td>\n",
       "      <td>1.6</td>\n",
       "      <td>6.2</td>\n",
       "    </tr>\n",
       "    <tr>\n",
       "      <th>slope</th>\n",
       "      <td>303.0</td>\n",
       "      <td>1.399340</td>\n",
       "      <td>0.616226</td>\n",
       "      <td>0.0</td>\n",
       "      <td>1.0</td>\n",
       "      <td>1.0</td>\n",
       "      <td>2.0</td>\n",
       "      <td>2.0</td>\n",
       "    </tr>\n",
       "    <tr>\n",
       "      <th>ca</th>\n",
       "      <td>303.0</td>\n",
       "      <td>0.729373</td>\n",
       "      <td>1.022606</td>\n",
       "      <td>0.0</td>\n",
       "      <td>0.0</td>\n",
       "      <td>0.0</td>\n",
       "      <td>1.0</td>\n",
       "      <td>4.0</td>\n",
       "    </tr>\n",
       "    <tr>\n",
       "      <th>thal</th>\n",
       "      <td>303.0</td>\n",
       "      <td>2.313531</td>\n",
       "      <td>0.612277</td>\n",
       "      <td>0.0</td>\n",
       "      <td>2.0</td>\n",
       "      <td>2.0</td>\n",
       "      <td>3.0</td>\n",
       "      <td>3.0</td>\n",
       "    </tr>\n",
       "    <tr>\n",
       "      <th>target</th>\n",
       "      <td>303.0</td>\n",
       "      <td>0.544554</td>\n",
       "      <td>0.498835</td>\n",
       "      <td>0.0</td>\n",
       "      <td>0.0</td>\n",
       "      <td>1.0</td>\n",
       "      <td>1.0</td>\n",
       "      <td>1.0</td>\n",
       "    </tr>\n",
       "  </tbody>\n",
       "</table>\n",
       "</div>"
      ],
      "text/plain": [
       "          count        mean        std    min    25%    50%    75%    max\n",
       "age       303.0   54.366337   9.082101   29.0   47.5   55.0   61.0   77.0\n",
       "sex       303.0    0.683168   0.466011    0.0    0.0    1.0    1.0    1.0\n",
       "cp        303.0    0.966997   1.032052    0.0    0.0    1.0    2.0    3.0\n",
       "trestbps  303.0  131.623762  17.538143   94.0  120.0  130.0  140.0  200.0\n",
       "chol      303.0  246.264026  51.830751  126.0  211.0  240.0  274.5  564.0\n",
       "fbs       303.0    0.148515   0.356198    0.0    0.0    0.0    0.0    1.0\n",
       "restecg   303.0    0.528053   0.525860    0.0    0.0    1.0    1.0    2.0\n",
       "thalach   303.0  149.646865  22.905161   71.0  133.5  153.0  166.0  202.0\n",
       "exang     303.0    0.326733   0.469794    0.0    0.0    0.0    1.0    1.0\n",
       "oldpeak   303.0    1.039604   1.161075    0.0    0.0    0.8    1.6    6.2\n",
       "slope     303.0    1.399340   0.616226    0.0    1.0    1.0    2.0    2.0\n",
       "ca        303.0    0.729373   1.022606    0.0    0.0    0.0    1.0    4.0\n",
       "thal      303.0    2.313531   0.612277    0.0    2.0    2.0    3.0    3.0\n",
       "target    303.0    0.544554   0.498835    0.0    0.0    1.0    1.0    1.0"
      ]
     },
     "execution_count": 6,
     "metadata": {},
     "output_type": "execute_result"
    }
   ],
   "source": [
    "clinical_df.describe().T"
   ]
  },
  {
   "cell_type": "code",
   "execution_count": 7,
   "id": "2af09d7d",
   "metadata": {},
   "outputs": [
    {
     "data": {
      "text/html": [
       "<div>\n",
       "<style scoped>\n",
       "    .dataframe tbody tr th:only-of-type {\n",
       "        vertical-align: middle;\n",
       "    }\n",
       "\n",
       "    .dataframe tbody tr th {\n",
       "        vertical-align: top;\n",
       "    }\n",
       "\n",
       "    .dataframe thead th {\n",
       "        text-align: right;\n",
       "    }\n",
       "</style>\n",
       "<table border=\"1\" class=\"dataframe\">\n",
       "  <thead>\n",
       "    <tr style=\"text-align: right;\">\n",
       "      <th></th>\n",
       "      <th>age</th>\n",
       "      <th>sex</th>\n",
       "      <th>cp</th>\n",
       "      <th>trestbps</th>\n",
       "      <th>chol</th>\n",
       "      <th>fbs</th>\n",
       "      <th>restecg</th>\n",
       "      <th>thalach</th>\n",
       "      <th>exang</th>\n",
       "      <th>oldpeak</th>\n",
       "      <th>slope</th>\n",
       "      <th>ca</th>\n",
       "      <th>thal</th>\n",
       "      <th>target</th>\n",
       "    </tr>\n",
       "  </thead>\n",
       "  <tbody>\n",
       "    <tr>\n",
       "      <th>0</th>\n",
       "      <td>63</td>\n",
       "      <td>1</td>\n",
       "      <td>3</td>\n",
       "      <td>145</td>\n",
       "      <td>233</td>\n",
       "      <td>1</td>\n",
       "      <td>0</td>\n",
       "      <td>150</td>\n",
       "      <td>0</td>\n",
       "      <td>2.3</td>\n",
       "      <td>0</td>\n",
       "      <td>0</td>\n",
       "      <td>1</td>\n",
       "      <td>1</td>\n",
       "    </tr>\n",
       "    <tr>\n",
       "      <th>1</th>\n",
       "      <td>37</td>\n",
       "      <td>1</td>\n",
       "      <td>2</td>\n",
       "      <td>130</td>\n",
       "      <td>250</td>\n",
       "      <td>0</td>\n",
       "      <td>1</td>\n",
       "      <td>187</td>\n",
       "      <td>0</td>\n",
       "      <td>3.5</td>\n",
       "      <td>0</td>\n",
       "      <td>0</td>\n",
       "      <td>2</td>\n",
       "      <td>1</td>\n",
       "    </tr>\n",
       "    <tr>\n",
       "      <th>2</th>\n",
       "      <td>41</td>\n",
       "      <td>0</td>\n",
       "      <td>1</td>\n",
       "      <td>130</td>\n",
       "      <td>204</td>\n",
       "      <td>0</td>\n",
       "      <td>0</td>\n",
       "      <td>172</td>\n",
       "      <td>0</td>\n",
       "      <td>1.4</td>\n",
       "      <td>2</td>\n",
       "      <td>0</td>\n",
       "      <td>2</td>\n",
       "      <td>1</td>\n",
       "    </tr>\n",
       "    <tr>\n",
       "      <th>3</th>\n",
       "      <td>56</td>\n",
       "      <td>1</td>\n",
       "      <td>1</td>\n",
       "      <td>120</td>\n",
       "      <td>236</td>\n",
       "      <td>0</td>\n",
       "      <td>1</td>\n",
       "      <td>178</td>\n",
       "      <td>0</td>\n",
       "      <td>0.8</td>\n",
       "      <td>2</td>\n",
       "      <td>0</td>\n",
       "      <td>2</td>\n",
       "      <td>1</td>\n",
       "    </tr>\n",
       "    <tr>\n",
       "      <th>4</th>\n",
       "      <td>57</td>\n",
       "      <td>0</td>\n",
       "      <td>0</td>\n",
       "      <td>120</td>\n",
       "      <td>354</td>\n",
       "      <td>0</td>\n",
       "      <td>1</td>\n",
       "      <td>163</td>\n",
       "      <td>1</td>\n",
       "      <td>0.6</td>\n",
       "      <td>2</td>\n",
       "      <td>0</td>\n",
       "      <td>2</td>\n",
       "      <td>1</td>\n",
       "    </tr>\n",
       "  </tbody>\n",
       "</table>\n",
       "</div>"
      ],
      "text/plain": [
       "   age  sex  cp  trestbps  chol  fbs  restecg  thalach  exang  oldpeak  slope  \\\n",
       "0   63    1   3       145   233    1        0      150      0      2.3      0   \n",
       "1   37    1   2       130   250    0        1      187      0      3.5      0   \n",
       "2   41    0   1       130   204    0        0      172      0      1.4      2   \n",
       "3   56    1   1       120   236    0        1      178      0      0.8      2   \n",
       "4   57    0   0       120   354    0        1      163      1      0.6      2   \n",
       "\n",
       "   ca  thal  target  \n",
       "0   0     1       1  \n",
       "1   0     2       1  \n",
       "2   0     2       1  \n",
       "3   0     2       1  \n",
       "4   0     2       1  "
      ]
     },
     "execution_count": 7,
     "metadata": {},
     "output_type": "execute_result"
    }
   ],
   "source": [
    "clinical_df.head()"
   ]
  },
  {
   "cell_type": "code",
   "execution_count": 8,
   "id": "c8e9cc9c",
   "metadata": {},
   "outputs": [],
   "source": [
    "import thinkstats2\n",
    "import thinkplot"
   ]
  },
  {
   "cell_type": "code",
   "execution_count": 10,
   "id": "094ecce5",
   "metadata": {},
   "outputs": [
    {
     "name": "stdout",
     "output_type": "stream",
     "text": [
      "Male: 207\n",
      "Female: 96\n",
      "TOTAL: 303\n"
     ]
    }
   ],
   "source": [
    "# creating separate df from male and female patients\n",
    "\n",
    "male = clinical_df[clinical_df.sex == 1]\n",
    "female = clinical_df[clinical_df.sex == 0]\n",
    "print(\"Male:\",len(male))\n",
    "print(\"Female:\",len(female))\n",
    "print(\"TOTAL:\",len(clinical_df))"
   ]
  },
  {
   "cell_type": "markdown",
   "id": "22d08ede",
   "metadata": {},
   "source": [
    "Histograms for the variables being analysed\n",
    "\n",
    "Age of Patient\n",
    "\n",
    "trestbps (resting blood pressure)\n",
    "\n",
    "chol (serum cholestoral in mg/dl)\n",
    "\n",
    "fbs (fasting blood sugar &gt; 120 mg/dl) (1 = true; 0 = false)\n",
    "\n",
    "thalach (maximum heart rate achieved)\n",
    "\n",
    "exang (exercise induced angina (1 = yes; 0 = no))"
   ]
  },
  {
   "cell_type": "code",
   "execution_count": 11,
   "id": "efe33591",
   "metadata": {},
   "outputs": [
    {
     "data": {
      "image/png": "[encoded data removed]",
      "text/plain": [
       "<Figure size 432x288 with 1 Axes>"
      ]
     },
     "metadata": {
      "needs_background": "light"
     },
     "output_type": "display_data"
    }
   ],
   "source": [
    "import matplotlib.pyplot as plt\n",
    "import numpy as np;\n",
    "\n",
    "# Histogram plots for Age of Patient\n",
    "binBoundaries = np.linspace(40,100,24)\n",
    "plt.hist(x=male.age, bins=binBoundaries, color='red', alpha=0.6, rwidth=0.9, label = \"male\")\n",
    "plt.hist(x=female.age, bins=binBoundaries, color='green', alpha=0.6, rwidth=0.9, label = \"female\")\n",
    "plt.legend(loc='upper right')\n",
    "plt.grid(axis='y', alpha=0.5)\n",
    "plt.xlabel('Age in Years')\n",
    "plt.ylabel('Count of Patients')\n",
    "plt.xlim(40,100)\n",
    "plt.ylim(0,30)\n",
    "plt.show()"
   ]
  },
  {
   "cell_type": "code",
   "execution_count": 12,
   "id": "b4ce8e7d",
   "metadata": {},
   "outputs": [
    {
     "data": {
      "image/png": "[encoded data removed]",
      "text/plain": [
       "<Figure size 432x288 with 1 Axes>"
      ]
     },
     "metadata": {
      "needs_background": "light"
     },
     "output_type": "display_data"
    }
   ],
   "source": [
    "# Histogram plots for trestbps\n",
    "binBoundaries = np.linspace(0,200,32)\n",
    "plt.hist(x=male.trestbps, bins=binBoundaries, color='red', alpha=0.7, rwidth=0.9, label = \"male\")\n",
    "plt.hist(x=female.trestbps, bins=binBoundaries, color='green', alpha=0.5, rwidth=0.9, label = \"female\")\n",
    "plt.legend(loc='upper right')\n",
    "plt.grid(axis='y', alpha=0.5)\n",
    "plt.xlabel('Resting blood pressure')\n",
    "plt.ylabel('Count of Patients')\n",
    "#plt.xlim(40,100)\n",
    "#plt.ylim(0,30)\n",
    "plt.show()"
   ]
  },
  {
   "cell_type": "code",
   "execution_count": 15,
   "id": "97b1ab60",
   "metadata": {},
   "outputs": [
    {
     "data": {
      "image/png": "[encoded data removed]",
      "text/plain": [
       "<Figure size 432x288 with 1 Axes>"
      ]
     },
     "metadata": {
      "needs_background": "light"
     },
     "output_type": "display_data"
    }
   ],
   "source": [
    "# Histogram plots for serum cholestoral in mg/dl\n",
    "binBoundaries = np.linspace(0,500,18)\n",
    "plt.hist(x=male.chol, bins=binBoundaries, color='red', alpha=0.4, rwidth=0.9, label = \"male\")\n",
    "plt.hist(x=female.chol, bins=binBoundaries, color='green', alpha=0.6, rwidth=0.9, label = \"female\")\n",
    "plt.legend(loc='upper right')\n",
    "plt.grid(axis='y', alpha=0.5)\n",
    "plt.xlabel('serum cholestoral in mg/dl')\n",
    "plt.ylabel('Count of Patients')\n",
    "plt.show()"
   ]
  },
  {
   "cell_type": "code",
   "execution_count": 17,
   "id": "ad2d3ed1",
   "metadata": {},
   "outputs": [
    {
     "data": {
      "image/png": "[encoded data removed]",
      "text/plain": [
       "<Figure size 432x288 with 1 Axes>"
      ]
     },
     "metadata": {
      "needs_background": "light"
     },
     "output_type": "display_data"
    }
   ],
   "source": [
    "# Histogram plots for Maximum Heart Rate\n",
    "binBoundaries = np.linspace(0, 300, 28)\n",
    "plt.hist(x=male.thalach, bins=binBoundaries, color='red', alpha=0.6, rwidth=0.9, label = \"male\")\n",
    "plt.hist(x=female.thalach, bins=binBoundaries, color='green', alpha=0.6, rwidth=0.9, label = \"female\")\n",
    "plt.legend(loc='upper right')\n",
    "plt.grid(axis='y', alpha=0.5)\n",
    "plt.xlabel('maximum heart rate achieved')\n",
    "plt.ylabel('Count of Patients')\n",
    "plt.show()"
   ]
  },
  {
   "cell_type": "code",
   "execution_count": 22,
   "id": "a0a8d2a4",
   "metadata": {},
   "outputs": [
    {
     "data": {
      "image/png": "[encoded data removed]",
      "text/plain": [
       "<Figure size 432x288 with 1 Axes>"
      ]
     },
     "metadata": {
      "needs_background": "light"
     },
     "output_type": "display_data"
    }
   ],
   "source": [
    "# Histogram plots for fasting blood sugar > 120 mg/dl\n",
    "binBoundaries = np.linspace(0, 2, 40)\n",
    "plt.hist(x=male.fbs, bins=binBoundaries, color='red', alpha=0.6, rwidth=0.9, label = \"Male\")\n",
    "plt.hist(x=female.fbs, bins=binBoundaries, color='green', alpha=0.6, rwidth=0.9, label = \"Female\")\n",
    "plt.legend(loc='upper right')\n",
    "plt.grid(axis='y', alpha=0.5)\n",
    "plt.xlabel('Fasting blood sugar > 120 mg/dl)')\n",
    "plt.ylabel('Count of Patients')\n",
    "plt.show()"
   ]
  },
  {
   "cell_type": "code",
   "execution_count": 27,
   "id": "5be375a4",
   "metadata": {},
   "outputs": [
    {
     "data": {
      "image/png": "[encoded data removed]",
      "text/plain": [
       "<Figure size 432x288 with 1 Axes>"
      ]
     },
     "metadata": {
      "needs_background": "light"
     },
     "output_type": "display_data"
    }
   ],
   "source": [
    "# Histogram plots for thalach (maximum heart rate achieved)\n",
    "binBoundaries = np.linspace(60, 200, 25)\n",
    "plt.hist(x=male.thalach, bins=binBoundaries, color='red', alpha=0.6, rwidth=0.9, label = \"Male\")\n",
    "plt.hist(x=female.thalach, bins=binBoundaries, color='green', alpha=0.6, rwidth=0.9, label = \"Female\")\n",
    "plt.legend(loc='upper right')\n",
    "plt.grid(axis='y', alpha=0.5)\n",
    "plt.xlabel('thalach (maximum heart rate achieved)')\n",
    "plt.ylabel('Count of Patients')\n",
    "plt.show()"
   ]
  },
  {
   "cell_type": "code",
   "execution_count": 48,
   "id": "48aa47e6",
   "metadata": {},
   "outputs": [
    {
     "data": {
      "image/png": "[encoded data removed]",
      "text/plain": [
       "<Figure size 432x288 with 1 Axes>"
      ]
     },
     "metadata": {
      "needs_background": "light"
     },
     "output_type": "display_data"
    }
   ],
   "source": [
    "# Histogram plots for exang (exercise induced angina)\n",
    "binBoundaries = np.linspace(0, 1, 25)\n",
    "plt.hist(x=male.exang, bins=binBoundaries, color='red', alpha=0.6, rwidth=0.9, label = \"Male\")\n",
    "plt.hist(x=female.exang, bins=binBoundaries, color='green', alpha=0.6, rwidth=0.9, label = \"Female\")\n",
    "plt.legend(loc='upper right')\n",
    "plt.grid(axis='y', alpha=0.5)\n",
    "plt.xlabel('exang (exercise induced angina)')\n",
    "plt.ylabel('Count of Patients')\n",
    "plt.show()"
   ]
  },
  {
   "cell_type": "code",
   "execution_count": 29,
   "id": "476da273",
   "metadata": {},
   "outputs": [
    {
     "name": "stdout",
     "output_type": "stream",
     "text": [
      "Mean Age (Male):  53.75845410628019\n",
      "Mean Age (Female):  55.677083333333336\n",
      "Mode Age (Male):  0    57\n",
      "1    58\n",
      "2    59\n",
      "dtype: int64\n",
      "Mode Age (Female):  0    62\n",
      "dtype: int64\n",
      "Variance Age (Male):  78.92195488016512\n",
      "Variance Age (Female):  88.53673245614031\n",
      "Standard Deviation Age (Male):  8.883802951448502\n",
      "Standard Deviation Age (Female):  9.409395966593197\n"
     ]
    }
   ],
   "source": [
    "# Mean, Mode, Spread and Tails - Age of Patient\n",
    "meanMale = male.age.mean()\n",
    "meanFemale = female.age.mean()\n",
    "modeMale = male.age.mode()\n",
    "modeFemale = female.age.mode()\n",
    "varMale = male.age.var()\n",
    "varFemale = female.age.var()\n",
    "stdMale = male.age.std()\n",
    "stdFemale = female.age.std()\n",
    "\n",
    "print(\"Mean Age (Male): \",meanMale)\n",
    "print(\"Mean Age (Female): \",meanFemale)\n",
    "print(\"Mode Age (Male): \",modeMale)\n",
    "print(\"Mode Age (Female): \",modeFemale)\n",
    "print(\"Variance Age (Male): \",varMale)\n",
    "print(\"Variance Age (Female): \",varFemale)\n",
    "print(\"Standard Deviation Age (Male): \",stdMale)\n",
    "print(\"Standard Deviation Age (Female): \",stdFemale)"
   ]
  },
  {
   "cell_type": "code",
   "execution_count": 31,
   "id": "aa966094",
   "metadata": {},
   "outputs": [
    {
     "name": "stdout",
     "output_type": "stream",
     "text": [
      "Mean Resting blood pressure (Male):  130.94685990338164\n",
      "Mean Resting blood pressure (Female):  133.08333333333334\n",
      "Mode Resting blood pressure (Male):  0    120\n",
      "dtype: int64\n",
      "Mode Resting blood pressure (Female):  0    130\n",
      "dtype: int64\n",
      "Variance Resting blood pressure (Male):  277.49716242202527\n",
      "Variance Resting blood pressure (Female):  372.91929824561413\n",
      "Standard Deviation Resting blood pressure (Male):  16.658246078805092\n",
      "Standard Deviation Resting blood pressure (Female):  19.31111851358212\n"
     ]
    }
   ],
   "source": [
    "# Mean, Mode, Spread and Tails - Resting heart Rate\n",
    "meanMale = male.trestbps.mean()\n",
    "meanFemale = female.trestbps.mean()\n",
    "modeMale = male.trestbps.mode()\n",
    "modeFemale = female.trestbps.mode()\n",
    "varMale = male.trestbps.var()\n",
    "varFemale = female.trestbps.var()\n",
    "stdMale = male.trestbps.std()\n",
    "stdFemale = female.trestbps.std()\n",
    "\n",
    "print(\"Mean Resting blood pressure (Male): \",meanMale)\n",
    "print(\"Mean Resting blood pressure (Female): \",meanFemale)\n",
    "print(\"Mode Resting blood pressure (Male): \",modeMale)\n",
    "print(\"Mode Resting blood pressure (Female): \",modeFemale)\n",
    "print(\"Variance Resting blood pressure (Male): \",varMale)\n",
    "print(\"Variance Resting blood pressure (Female): \",varFemale)\n",
    "print(\"Standard Deviation Resting blood pressure (Male): \",stdMale)\n",
    "print(\"Standard Deviation Resting blood pressure (Female): \",stdFemale)"
   ]
  },
  {
   "cell_type": "code",
   "execution_count": 32,
   "id": "1d9b8a85",
   "metadata": {},
   "outputs": [
    {
     "name": "stdout",
     "output_type": "stream",
     "text": [
      "Mean fasting blood sugar (Male):  0.15942028985507245\n",
      "Mean fasting blood sugar (Female):  0.125\n",
      "Mode fasting blood sugar (Male):  0    0\n",
      "dtype: int64\n",
      "Mode fasting blood sugar (Female):  0    0\n",
      "dtype: int64\n",
      "Variance fasting blood sugar (Male):  0.13465597298438123\n",
      "Variance fasting blood sugar (Female):  0.11052631578947368\n",
      "Standard fasting blood sugar (Male):  0.3669550013072192\n",
      "Standard fasting blood sugar (Female):  0.33245498310218435\n"
     ]
    }
   ],
   "source": [
    "# Mean, Mode, Spread and Tails - fbs (fasting blood sugar)\n",
    "meanMale = male.fbs.mean()\n",
    "meanFemale = female.fbs.mean()\n",
    "modeMale = male.fbs.mode()\n",
    "modeFemale = female.fbs.mode()\n",
    "varMale = male.fbs.var()\n",
    "varFemale = female.fbs.var()\n",
    "stdMale = male.fbs.std()\n",
    "stdFemale = female.fbs.std()\n",
    "\n",
    "print(\"Mean fasting blood sugar (Male): \",meanMale)\n",
    "print(\"Mean fasting blood sugar (Female): \",meanFemale)\n",
    "print(\"Mode fasting blood sugar (Male): \",modeMale)\n",
    "print(\"Mode fasting blood sugar (Female): \",modeFemale)\n",
    "print(\"Variance fasting blood sugar (Male): \",varMale)\n",
    "print(\"Variance fasting blood sugar (Female): \",varFemale)\n",
    "print(\"Standard fasting blood sugar (Male): \",stdMale)\n",
    "print(\"Standard fasting blood sugar (Female): \",stdFemale)"
   ]
  },
  {
   "cell_type": "code",
   "execution_count": 33,
   "id": "aa0b6ecc",
   "metadata": {},
   "outputs": [
    {
     "name": "stdout",
     "output_type": "stream",
     "text": [
      "Mean maximum heart rate achieved (Male)):  148.96135265700482\n",
      "Mean maximum heart rate achieved (Female):  151.125\n",
      "Mode maximum heart rate achieved (Male):  0    132\n",
      "1    144\n",
      "2    162\n",
      "3    173\n",
      "dtype: int64\n",
      "Mode maximum heart rate achieved (Female):  0    172\n",
      "dtype: int64\n",
      "Variance maximum heart rate achieved (Male):  582.299470006097\n",
      "Variance maximum heart rate achieved (Female):  401.92105263157896\n",
      "Standard Deviation maximum heart rate achieved (Male):  24.130882080978658\n",
      "Standard Deviation maximum heart rate achieved (Female):  20.04796879066752\n"
     ]
    }
   ],
   "source": [
    "# Mean, Mode, Spread and Tails - thalach (maximum heart rate achieved)\n",
    "meanMale = male.thalach.mean()\n",
    "meanFemale = female.thalach.mean()\n",
    "modeMale = male.thalach.mode()\n",
    "modeFemale = female.thalach.mode()\n",
    "varMale = male.thalach.var()\n",
    "varFemale = female.thalach.var()\n",
    "stdMale = male.thalach.std()\n",
    "stdFemale = female.thalach.std()\n",
    "\n",
    "print(\"Mean maximum heart rate achieved (Male)): \",meanMale)\n",
    "print(\"Mean maximum heart rate achieved (Female): \",meanFemale)\n",
    "print(\"Mode maximum heart rate achieved (Male): \",modeMale)\n",
    "print(\"Mode maximum heart rate achieved (Female): \",modeFemale)\n",
    "print(\"Variance maximum heart rate achieved (Male): \",varMale)\n",
    "print(\"Variance maximum heart rate achieved (Female): \",varFemale)\n",
    "print(\"Standard Deviation maximum heart rate achieved (Male): \",stdMale)\n",
    "print(\"Standard Deviation maximum heart rate achieved (Female): \",stdFemale)"
   ]
  },
  {
   "cell_type": "code",
   "execution_count": 35,
   "id": "578d8a6f",
   "metadata": {},
   "outputs": [
    {
     "name": "stdout",
     "output_type": "stream",
     "text": [
      "Mean exang (exercise induced angina) (Male)):  0.3719806763285024\n",
      "Mean exang (exercise induced angina) (Female)):  0.22916666666666666\n",
      "Mode exang (exercise induced angina) (Male)):  0    0\n",
      "dtype: int64\n",
      "Mode exang (exercise induced angina) (Female):  0    0\n",
      "dtype: int64\n",
      "Variance exang (exercise induced angina) (Male)):  0.2347450870034233\n",
      "Variance exang (exercise induced angina) (Female)):  0.17850877192982456\n",
      "Standard exang (exercise induced angina) (Male)):  0.48450499172188444\n",
      "Standard exang (exercise induced angina) (female)):  0.42250298452179547\n"
     ]
    }
   ],
   "source": [
    "# Mean, Mode, Spread and Tails - exang (exercise induced angina)\n",
    "meanMale = male.exang.mean()\n",
    "meanFemale = female.exang.mean()\n",
    "modeMale = male.exang.mode()\n",
    "modeFemale = female.exang.mode()\n",
    "varMale = male.exang.var()\n",
    "varFemale = female.exang.var()\n",
    "stdMale = male.exang.std()\n",
    "stdFemale = female.exang.std()\n",
    "\n",
    "print(\"Mean exang (exercise induced angina) (Male)): \",meanMale)\n",
    "print(\"Mean exang (exercise induced angina) (Female)): \",meanFemale)\n",
    "print(\"Mode exang (exercise induced angina) (Male)): \",modeMale)\n",
    "print(\"Mode exang (exercise induced angina) (Female): \",modeFemale)\n",
    "print(\"Variance exang (exercise induced angina) (Male)): \",varMale)\n",
    "print(\"Variance exang (exercise induced angina) (Female)): \",varFemale)\n",
    "print(\"Standard exang (exercise induced angina) (Male)): \",stdMale)\n",
    "print(\"Standard exang (exercise induced angina) (female)): \",stdFemale)"
   ]
  },
  {
   "cell_type": "code",
   "execution_count": 52,
   "id": "920fa79e",
   "metadata": {},
   "outputs": [
    {
     "data": {
      "image/png": "[encoded data removed]",
      "text/plain": [
       "<Figure size 864x432 with 2 Axes>"
      ]
     },
     "metadata": {
      "needs_background": "light"
     },
     "output_type": "display_data"
    }
   ],
   "source": [
    "# Comparing exang (exercise induced angina) in Male vs Female Patients\n",
    "pmfMaleEF = thinkstats2.Pmf(male.exang, label='Male')\n",
    "pmfFemaleEF = thinkstats2.Pmf(female.exang, label='Female')\n",
    "\n",
    "width=1\n",
    "axis = [0, 10, 0, 0.25]\n",
    "thinkplot.PrePlot(2, cols=2)\n",
    "thinkplot.Hist(pmfMaleEF, align='right', width=width, color = 'green')\n",
    "thinkplot.Hist(pmfFemaleEF, align='left', width=width, color = 'red')\n",
    "thinkplot.Config(xlabel='Exercise induced angina - %age', ylabel='PMF', axis=axis)\n",
    "\n",
    "thinkplot.PrePlot(2)\n",
    "thinkplot.SubPlot(2)\n",
    "thinkplot.Pmfs([pmfMaleEF, pmfFemaleEF],width=width)\n",
    "thinkplot.Config(xlabel='Exercise induced angina - %age', axis=axis)"
   ]
  },
  {
   "cell_type": "code",
   "execution_count": 57,
   "id": "6faedf56",
   "metadata": {
    "scrolled": true
   },
   "outputs": [
    {
     "data": {
      "image/png": "[encoded data removed]",
      "text/plain": [
       "<Figure size 864x432 with 2 Axes>"
      ]
     },
     "metadata": {
      "needs_background": "light"
     },
     "output_type": "display_data"
    }
   ],
   "source": [
    "# Comparing thalach maximum heart rate achieved in Male vs Female Patients\n",
    "pmfMaleSC = thinkstats2.Pmf(male.thalach, label='Male')\n",
    "pmfFemaleSC = thinkstats2.Pmf(female.thalach, label='Female')\n",
    "\n",
    "width=0.05\n",
    "axis = [60, 200, 0, 0.20]\n",
    "thinkplot.PrePlot(2, cols=2)\n",
    "thinkplot.Hist(pmfMaleSC, align='right', width=width, color = 'green')\n",
    "thinkplot.Hist(pmfFemaleSC, align='left', width=width, color ='red')\n",
    "thinkplot.Config(xlabel='maximum heart rate achieved', ylabel='PMF', axis=axis)\n",
    "\n",
    "thinkplot.PrePlot(2)\n",
    "thinkplot.SubPlot(2)\n",
    "thinkplot.Pmfs([pmfMaleSC, pmfFemaleSC],width=width)\n",
    "thinkplot.Config(xlabel='maximum heart rate achieved', axis=axis)"
   ]
  },
  {
   "cell_type": "code",
   "execution_count": 67,
   "id": "5ef0c8ff",
   "metadata": {},
   "outputs": [
    {
     "data": {
      "image/png": "[encoded data removed]",
      "text/plain": [
       "<Figure size 432x288 with 1 Axes>"
      ]
     },
     "metadata": {
      "needs_background": "light"
     },
     "output_type": "display_data"
    }
   ],
   "source": [
    "# CDF Plot for Resting Heart Rate for Male vs Female\n",
    "cdfFMale = thinkstats2.Cdf(male.trestbps, label='Male')\n",
    "cdfFFemale = thinkstats2.Cdf(female.trestbps, label='Female')\n",
    "thinkplot.Cdf(cdfFMale)\n",
    "thinkplot.Config(xlabel='Resting Heart Rate', ylabel='CDF', loc='upper left')\n",
    "thinkplot.Cdf(cdfFFemale)\n",
    "thinkplot.Config(xlabel='Resting Heart Rate', ylabel='CDF', loc='upper left')"
   ]
  },
  {
   "cell_type": "code",
   "execution_count": 63,
   "id": "b2064d42",
   "metadata": {},
   "outputs": [
    {
     "data": {
      "image/png": "[encoded data removed]",
      "text/plain": [
       "<Figure size 432x288 with 1 Axes>"
      ]
     },
     "metadata": {
      "needs_background": "light"
     },
     "output_type": "display_data"
    }
   ],
   "source": [
    "# CDF Plot for thalach (maximum heart rate achieved) for Male vs Female\n",
    "cdfTMale = thinkstats2.Cdf(male.thalach, label='Male')\n",
    "cdfTFemale = thinkstats2.Cdf(female.thalach, label='Female')\n",
    "thinkplot.Cdf(cdfTMale)\n",
    "thinkplot.Config(xlabel='thalach %age', ylabel='CDF', loc='upper left')\n",
    "thinkplot.Cdf(cdfTFemale)\n",
    "thinkplot.Config(xlabel='thalach %age', ylabel='CDF', loc='upper left')"
   ]
  },
  {
   "cell_type": "code",
   "execution_count": 69,
   "id": "9202c233",
   "metadata": {},
   "outputs": [
    {
     "data": {
      "text/plain": [
       "'Male - Covariance between Resting Heart Rate & Fasting heart Rate'"
      ]
     },
     "metadata": {},
     "output_type": "display_data"
    },
    {
     "data": {
      "text/plain": [
       "array([[277.49716242,  -9.80788894],\n",
       "       [ -9.80788894, 582.29947001]])"
      ]
     },
     "metadata": {},
     "output_type": "display_data"
    },
    {
     "data": {
      "text/plain": [
       "'Male - Correlation Coefficient between Resting Heart Rate & Fasting heart Rate'"
      ]
     },
     "metadata": {},
     "output_type": "display_data"
    },
    {
     "data": {
      "text/plain": [
       "array([[ 1.        , -0.02439906],\n",
       "       [-0.02439906,  1.        ]])"
      ]
     },
     "metadata": {},
     "output_type": "display_data"
    },
    {
     "data": {
      "text/plain": [
       "'Female - Covariance between Resting Heart Rate & Fasting heart Rate'"
      ]
     },
     "metadata": {},
     "output_type": "display_data"
    },
    {
     "data": {
      "text/plain": [
       "array([[372.91929825, -41.55789474],\n",
       "       [-41.55789474, 401.92105263]])"
      ]
     },
     "metadata": {},
     "output_type": "display_data"
    },
    {
     "data": {
      "text/plain": [
       "'Female - Correlation Coefficient between Resting Heart Rate & Fasting heart Rate'"
      ]
     },
     "metadata": {},
     "output_type": "display_data"
    },
    {
     "data": {
      "text/plain": [
       "array([[ 1.       , -0.1073435],\n",
       "       [-0.1073435,  1.       ]])"
      ]
     },
     "metadata": {},
     "output_type": "display_data"
    }
   ],
   "source": [
    "display(\"Male - Covariance between Resting Heart Rate & Fasting heart Rate\",\n",
    "        np.cov(male.trestbps,male.thalach))\n",
    "display(\"Male - Correlation Coefficient between Resting Heart Rate & Fasting heart Rate\",\n",
    "        np.corrcoef(male.trestbps, male.thalach))\n",
    "display(\"Female - Covariance between Resting Heart Rate & Fasting heart Rate\",\n",
    "        np.cov(female.trestbps,female.thalach))\n",
    "display(\"Female - Correlation Coefficient between Resting Heart Rate & Fasting heart Rate\",\n",
    "        np.corrcoef(female.trestbps, female.thalach))"
   ]
  },
  {
   "cell_type": "code",
   "execution_count": 74,
   "id": "43646a1f",
   "metadata": {},
   "outputs": [
    {
     "data": {
      "image/png": "[encoded data removed]",
      "text/plain": [
       "<Figure size 432x288 with 1 Axes>"
      ]
     },
     "metadata": {
      "needs_background": "light"
     },
     "output_type": "display_data"
    }
   ],
   "source": [
    "# Resting Heart Rate & Fasting blood sugar in Male Patients and Female\n",
    "\n",
    "thinkplot.Scatter(male.trestbps, male.thalach, alpha=1.0, label = 'Male', color = 'RED')\n",
    "thinkplot.Scatter(female.trestbps, female.thalach, alpha=1.0, label = 'Female', color = 'GREEN')\n",
    "thinkplot.Config(xlabel='Resting Heart Rate',\n",
    "                 ylabel='Fasting blood Sugar ',\n",
    "                 axis=[0, 200, 0, 200],\n",
    "                 legend=True, loc='upper left')"
   ]
  },
  {
   "cell_type": "code",
   "execution_count": 76,
   "id": "96ce6b01",
   "metadata": {},
   "outputs": [
    {
     "data": {
      "text/plain": [
       "'Male - Covariance between exercise induced angina & fasting blood Sugar'"
      ]
     },
     "metadata": {},
     "output_type": "display_data"
    },
    {
     "data": {
      "text/plain": [
       "array([[ 0.23474509, -0.00619108],\n",
       "       [-0.00619108,  0.13465597]])"
      ]
     },
     "metadata": {},
     "output_type": "display_data"
    },
    {
     "data": {
      "text/plain": [
       "'Male - Correlation Coefficient between exercise induced angina & fasting blood Sugar'"
      ]
     },
     "metadata": {},
     "output_type": "display_data"
    },
    {
     "data": {
      "text/plain": [
       "array([[ 1.        , -0.03482213],\n",
       "       [-0.03482213,  1.        ]])"
      ]
     },
     "metadata": {},
     "output_type": "display_data"
    },
    {
     "data": {
      "text/plain": [
       "'Female - Covariance between exercise induced angina & fasting blood Sugar'"
      ]
     },
     "metadata": {},
     "output_type": "display_data"
    },
    {
     "data": {
      "text/plain": [
       "array([[0.17850877, 0.02368421],\n",
       "       [0.02368421, 0.11052632]])"
      ]
     },
     "metadata": {},
     "output_type": "display_data"
    },
    {
     "data": {
      "text/plain": [
       "'Female - Correlation Coefficient between exercise induced angina & fasting blood Sugar'"
      ]
     },
     "metadata": {},
     "output_type": "display_data"
    },
    {
     "data": {
      "text/plain": [
       "array([[1.        , 0.16861503],\n",
       "       [0.16861503, 1.        ]])"
      ]
     },
     "metadata": {},
     "output_type": "display_data"
    }
   ],
   "source": [
    "display(\"Male - Covariance between exercise induced angina & fasting blood Sugar\",\n",
    "        np.cov(male.exang,male.fbs))\n",
    "display(\"Male - Correlation Coefficient between exercise induced angina & fasting blood Sugar\",\n",
    "        np.corrcoef(male.exang, male.fbs))\n",
    "display(\"Female - Covariance between exercise induced angina & fasting blood Sugar\",\n",
    "        np.cov(female.exang,female.fbs))\n",
    "display(\"Female - Correlation Coefficient between exercise induced angina & fasting blood Sugar\",\n",
    "        np.corrcoef(female.exang, female.fbs))"
   ]
  },
  {
   "cell_type": "code",
   "execution_count": 98,
   "id": "72bf70fd",
   "metadata": {},
   "outputs": [
    {
     "data": {
      "text/plain": [
       "0.006"
      ]
     },
     "execution_count": 98,
     "metadata": {},
     "output_type": "execute_result"
    }
   ],
   "source": [
    "\n",
    "# Conduct a test on your hypothesis using one of the methods covered in Chapter 9.\n",
    "\n",
    "# To test the hypothesis we will check means of the both\n",
    "class DiffMeansPermute(thinkstats2.HypothesisTest):\n",
    "\n",
    "    def TestStatistic(self, data):\n",
    "        group1, group2 = data\n",
    "        #display(\"1\", group1.mean(),\"2\", group2.mean())\n",
    "        test_stat = (group1.mean() - group2.mean())\n",
    "        return test_stat\n",
    "\n",
    "    def MakeModel(self):\n",
    "        group1, group2 = self.data\n",
    "        self.n, self.m = len(group1), len(group2)\n",
    "        self.pool = np.hstack((group1, group2))\n",
    "\n",
    "    def RunModel(self):\n",
    "        np.random.shuffle(self.pool)\n",
    "        data = self.pool[:self.n], self.pool[self.n:]\n",
    "        return data\n",
    "\n",
    "\n",
    "data = male.exang.values, female.exang.values\n",
    "ht = DiffMeansPermute(data)\n",
    "pvalue = ht.PValue()\n",
    "pvalue"
   ]
  },
  {
   "cell_type": "code",
   "execution_count": 85,
   "id": "9a36653c",
   "metadata": {},
   "outputs": [
    {
     "data": {
      "image/png": "[encoded data removed]",
      "text/plain": [
       "<Figure size 432x288 with 1 Axes>"
      ]
     },
     "metadata": {
      "needs_background": "light"
     },
     "output_type": "display_data"
    }
   ],
   "source": [
    "ht.PlotCdf()\n",
    "thinkplot.Config(xlabel='test statistic - mean diff', axis=[-5, 5, 0, 1],\n",
    "                   ylabel='CDF')"
   ]
  },
  {
   "cell_type": "code",
   "execution_count": 79,
   "id": "4ee8d1f2",
   "metadata": {},
   "outputs": [
    {
     "data": {
      "text/plain": [
       "0.284"
      ]
     },
     "execution_count": 79,
     "metadata": {},
     "output_type": "execute_result"
    }
   ],
   "source": [
    "\n",
    "data = male.fbs.values, female.fbs.values\n",
    "ht = DiffMeansPermute(data)\n",
    "pvalue = ht.PValue()\n",
    "pvalue"
   ]
  },
  {
   "cell_type": "code",
   "execution_count": 80,
   "id": "3ac89970",
   "metadata": {},
   "outputs": [
    {
     "data": {
      "image/png": "[encoded data removed]",
      "text/plain": [
       "<Figure size 432x288 with 1 Axes>"
      ]
     },
     "metadata": {
      "needs_background": "light"
     },
     "output_type": "display_data"
    }
   ],
   "source": [
    "ht.PlotCdf()\n",
    "thinkplot.Config(xlabel='test statistic - mean diff', axis=[-1, 1, 0, 1],\n",
    "                   ylabel='CDF')"
   ]
  },
  {
   "cell_type": "code",
   "execution_count": 86,
   "id": "b83ed71b",
   "metadata": {},
   "outputs": [],
   "source": [
    "def RunTests(clinical_df, iters=1000):\n",
    "    \n",
    "    n = len(clinical_df)\n",
    "\n",
    "    data = male.trestbps.values, female.trestbps.values\n",
    "    ht = DiffMeansPermute(data)\n",
    "    p1 = ht.PValue(iters=iters)\n",
    "    \n",
    "    data = (male.fbs.values,\n",
    "            female.fbs.values)\n",
    "    ht = DiffMeansPermute(data)\n",
    "    p2 = ht.PValue(iters=iters)\n",
    "    \n",
    "    print('%d\\t%0.2f\\t%0.2f' % (n, p1, p2))"
   ]
  },
  {
   "cell_type": "code",
   "execution_count": 87,
   "id": "27e5e907",
   "metadata": {},
   "outputs": [
    {
     "name": "stdout",
     "output_type": "stream",
     "text": [
      "303\t0.83\t0.27\n",
      "151\t0.85\t0.27\n",
      "75\t0.85\t0.28\n",
      "37\t0.83\t0.27\n",
      "18\t0.83\t0.29\n",
      "9\t0.82\t0.26\n",
      "4\t0.83\t0.28\n"
     ]
    }
   ],
   "source": [
    "n = len(clinical_df)\n",
    "for _ in range(7):\n",
    "    sample = thinkstats2.SampleRows(clinical_df, n)\n",
    "    RunTests(sample)\n",
    "    n //= 2"
   ]
  },
  {
   "cell_type": "markdown",
   "id": "d035013f",
   "metadata": {},
   "source": [
    "Conclusion: The tests for test1, test2 are positive throughout. However this pattern may change if we could get large datasets. This is not evident, this is only my assumption as 303 is a very small number of patients that we are using for this hypothesis. Still based on our data, we may say our hypothesis is right."
   ]
  },
  {
   "cell_type": "code",
   "execution_count": 93,
   "id": "df7b4be7",
   "metadata": {},
   "outputs": [
    {
     "name": "stdout",
     "output_type": "stream",
     "text": [
      "Optimization terminated successfully.\n",
      "         Current function value: 0.566335\n",
      "         Iterations 5\n"
     ]
    },
    {
     "data": {
      "text/html": [
       "<table class=\"simpletable\">\n",
       "<caption>Logit Regression Results</caption>\n",
       "<tr>\n",
       "  <th>Dep. Variable:</th>        <td>target</td>      <th>  No. Observations:  </th>  <td>   303</td>  \n",
       "</tr>\n",
       "<tr>\n",
       "  <th>Model:</th>                 <td>Logit</td>      <th>  Df Residuals:      </th>  <td>   298</td>  \n",
       "</tr>\n",
       "<tr>\n",
       "  <th>Method:</th>                 <td>MLE</td>       <th>  Df Model:          </th>  <td>     4</td>  \n",
       "</tr>\n",
       "<tr>\n",
       "  <th>Date:</th>            <td>Sat, 20 Nov 2021</td> <th>  Pseudo R-squ.:     </th>  <td>0.1782</td>  \n",
       "</tr>\n",
       "<tr>\n",
       "  <th>Time:</th>                <td>12:42:01</td>     <th>  Log-Likelihood:    </th> <td> -171.60</td> \n",
       "</tr>\n",
       "<tr>\n",
       "  <th>converged:</th>             <td>True</td>       <th>  LL-Null:           </th> <td> -208.82</td> \n",
       "</tr>\n",
       "<tr>\n",
       "  <th>Covariance Type:</th>     <td>nonrobust</td>    <th>  LLR p-value:       </th> <td>2.619e-15</td>\n",
       "</tr>\n",
       "</table>\n",
       "<table class=\"simpletable\">\n",
       "<tr>\n",
       "      <td></td>         <th>coef</th>     <th>std err</th>      <th>z</th>      <th>P>|z|</th>  <th>[0.025</th>    <th>0.975]</th>  \n",
       "</tr>\n",
       "<tr>\n",
       "  <th>Intercept</th> <td>    4.8236</td> <td>    1.206</td> <td>    4.001</td> <td> 0.000</td> <td>    2.461</td> <td>    7.186</td>\n",
       "</tr>\n",
       "<tr>\n",
       "  <th>trestbps</th>  <td>   -0.0109</td> <td>    0.008</td> <td>   -1.354</td> <td> 0.176</td> <td>   -0.027</td> <td>    0.005</td>\n",
       "</tr>\n",
       "<tr>\n",
       "  <th>fbs</th>       <td>    0.1064</td> <td>    0.369</td> <td>    0.288</td> <td> 0.773</td> <td>   -0.618</td> <td>    0.831</td>\n",
       "</tr>\n",
       "<tr>\n",
       "  <th>exang</th>     <td>   -2.0211</td> <td>    0.290</td> <td>   -6.966</td> <td> 0.000</td> <td>   -2.590</td> <td>   -1.452</td>\n",
       "</tr>\n",
       "<tr>\n",
       "  <th>age</th>       <td>   -0.0470</td> <td>    0.016</td> <td>   -3.021</td> <td> 0.003</td> <td>   -0.078</td> <td>   -0.017</td>\n",
       "</tr>\n",
       "</table>"
      ],
      "text/plain": [
       "<class 'statsmodels.iolib.summary.Summary'>\n",
       "\"\"\"\n",
       "                           Logit Regression Results                           \n",
       "==============================================================================\n",
       "Dep. Variable:                 target   No. Observations:                  303\n",
       "Model:                          Logit   Df Residuals:                      298\n",
       "Method:                           MLE   Df Model:                            4\n",
       "Date:                Sat, 20 Nov 2021   Pseudo R-squ.:                  0.1782\n",
       "Time:                        12:42:01   Log-Likelihood:                -171.60\n",
       "converged:                       True   LL-Null:                       -208.82\n",
       "Covariance Type:            nonrobust   LLR p-value:                 2.619e-15\n",
       "==============================================================================\n",
       "                 coef    std err          z      P>|z|      [0.025      0.975]\n",
       "------------------------------------------------------------------------------\n",
       "Intercept      4.8236      1.206      4.001      0.000       2.461       7.186\n",
       "trestbps      -0.0109      0.008     -1.354      0.176      -0.027       0.005\n",
       "fbs            0.1064      0.369      0.288      0.773      -0.618       0.831\n",
       "exang         -2.0211      0.290     -6.966      0.000      -2.590      -1.452\n",
       "age           -0.0470      0.016     -3.021      0.003      -0.078      -0.017\n",
       "==============================================================================\n",
       "\"\"\""
      ]
     },
     "execution_count": 93,
     "metadata": {},
     "output_type": "execute_result"
    }
   ],
   "source": [
    "# For this project, conduct a regression analysis on either one dependent and one explanatory variable,\n",
    "# or multiple explanatory variables (Chapter 10 & 11)\n",
    "\n",
    "import statsmodels.formula.api as smf\n",
    "import pandas as pd\n",
    "\n",
    "formula = 'target ~ trestbps + fbs + exang+age'\n",
    "model = smf.logit(formula, data=clinical_df)\n",
    "results = model.fit()\n",
    "results.summary()"
   ]
  },
  {
   "cell_type": "code",
   "execution_count": 94,
   "id": "97849454",
   "metadata": {},
   "outputs": [],
   "source": [
    "endog = pd.DataFrame(model.endog, columns=[model.endog_names])\n",
    "exog = pd.DataFrame(model.exog, columns=model.exog_names)\n",
    "actual = endog['target']"
   ]
  },
  {
   "cell_type": "code",
   "execution_count": 95,
   "id": "9aad5b5a",
   "metadata": {},
   "outputs": [
    {
     "data": {
      "text/plain": [
       "(136.0, 76.0)"
      ]
     },
     "execution_count": 95,
     "metadata": {},
     "output_type": "execute_result"
    }
   ],
   "source": [
    "predict = (results.predict() >= 0.5)\n",
    "true_pos = predict * actual\n",
    "true_neg = (1 - predict) * (1 - actual)\n",
    "sum(true_pos), sum(true_neg)"
   ]
  },
  {
   "cell_type": "code",
   "execution_count": 96,
   "id": "64def893",
   "metadata": {},
   "outputs": [
    {
     "data": {
      "text/plain": [
       "0.6996699669966997"
      ]
     },
     "execution_count": 96,
     "metadata": {},
     "output_type": "execute_result"
    }
   ],
   "source": [
    "acc = (sum(true_pos) + sum(true_neg)) / len(actual)\n",
    "acc"
   ]
  },
  {
   "cell_type": "markdown",
   "id": "0a4048f3",
   "metadata": {},
   "source": [
    "The above model shows and accuracy of 70%"
   ]
  },
  {
   "cell_type": "code",
   "execution_count": 97,
   "id": "fbf7241b",
   "metadata": {},
   "outputs": [
    {
     "data": {
      "text/plain": [
       "0    0.999996\n",
       "dtype: float64"
      ]
     },
     "execution_count": 97,
     "metadata": {},
     "output_type": "execute_result"
    }
   ],
   "source": [
    "# We may provide values here to predict the mortality\n",
    "columns = ['trestbps', 'fbs', 'exang', 'age']\n",
    "new = pd.DataFrame([[90, 120, 1.3, 35]], columns=columns)\n",
    "y = results.predict(new)\n",
    "y"
   ]
  }
 ],
 "metadata": {
  "kernelspec": {
   "display_name": "Python 3",
   "language": "python",
   "name": "python3"
  },
  "language_info": {
   "codemirror_mode": {
    "name": "ipython",
    "version": 3
   },
   "file_extension": ".py",
   "mimetype": "text/x-python",
   "name": "python",
   "nbconvert_exporter": "python",
   "pygments_lexer": "ipython3",
   "version": "3.8.8"
  }
 },
 "nbformat": 4,
 "nbformat_minor": 5
}
